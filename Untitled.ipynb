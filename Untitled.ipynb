{
 "cells": [
  {
   "cell_type": "code",
   "execution_count": 2,
   "metadata": {},
   "outputs": [
    {
     "name": "stdout",
     "output_type": "stream",
     "text": [
      "get a number5\n",
      "get a number1\n",
      "get a number2\n",
      "['5', '1', '2']\n"
     ]
    }
   ],
   "source": [
    "input_list = []\n",
    "x = input(\"get a number\")\n",
    "input_list.append(x)\n",
    "x = input(\"get a number\")\n",
    "input_list.append(x)\n",
    "x = input(\"get a number\")\n",
    "input_list.append(x)\n",
    "\n",
    "print(input_list)\n"
   ]
  },
  {
   "cell_type": "code",
   "execution_count": 9,
   "metadata": {},
   "outputs": [
    {
     "name": "stdout",
     "output_type": "stream",
     "text": [
      "get a number5\n",
      "get a number5\n",
      "get a number5\n",
      "['5', '5', '5']\n"
     ]
    }
   ],
   "source": [
    "input_list=[]\n",
    "for i in range(3):\n",
    "    x=input(\"get a number\")\n",
    "    input_list.append(x)\n",
    "    \n",
    "print(input_list)\n"
   ]
  },
  {
   "cell_type": "code",
   "execution_count": 22,
   "metadata": {},
   "outputs": [
    {
     "name": "stdout",
     "output_type": "stream",
     "text": [
      "get a number89\n",
      "89\n",
      "get a number85\n",
      "85\n",
      "get a number86\n",
      "85\n",
      "get a number81\n",
      "81\n",
      "get a number82\n",
      "81\n"
     ]
    }
   ],
   "source": [
    "least = input(\"get a number\")\n",
    "print(least)\n",
    "input_list=[]\n",
    "input_list.append(least)\n",
    "for i in range(4):\n",
    "    x=input(\"get a number\")\n",
    "    input_list.append(x)\n",
    "    if x<least:\n",
    "        least=x\n",
    "    print(least)\n",
    "    \n",
    "    \n",
    "\n",
    "\n",
    "\n",
    "\n",
    "\n",
    "\n",
    "\n",
    "\n",
    "\n",
    "\n",
    "\n"
   ]
  },
  {
   "cell_type": "code",
   "execution_count": 21,
   "metadata": {},
   "outputs": [
    {
     "name": "stdout",
     "output_type": "stream",
     "text": [
      "Hello Boris\n",
      "Hello Jack\n",
      "Hello Timmy\n"
     ]
    }
   ],
   "source": [
    "names=['Boris','Jack','Timmy']\n",
    "for counter in range(3):\n",
    "    print(\"Hello \"+names[counter])"
   ]
  },
  {
   "cell_type": "code",
   "execution_count": 20,
   "metadata": {},
   "outputs": [
    {
     "name": "stdout",
     "output_type": "stream",
     "text": [
      "[2, 4, 6, 8, 10, 12, 14, 16, 18]\n"
     ]
    }
   ],
   "source": [
    "time_list=[]\n",
    "x=2\n",
    "for i in range(1,10):\n",
    "    time_list.append(i*x)\n",
    "print(time_list)\n",
    "\n",
    "\n"
   ]
  },
  {
   "cell_type": "code",
   "execution_count": 37,
   "metadata": {},
   "outputs": [
    {
     "name": "stdout",
     "output_type": "stream",
     "text": [
      "Nice to meet you Boris\n"
     ]
    }
   ],
   "source": [
    "names=['Boris','Jack','Timmy']\n",
    "for i in range(len(names)):\n",
    "    if names[i] == 'Boris':\n",
    "        print(\"Nice to meet you\", names[i])\n",
    "\n",
    "\n",
    "\n"
   ]
  },
  {
   "cell_type": "code",
   "execution_count": null,
   "metadata": {},
   "outputs": [],
   "source": []
  }
 ],
 "metadata": {
  "kernelspec": {
   "display_name": "Python 3",
   "language": "python",
   "name": "python3"
  },
  "language_info": {
   "codemirror_mode": {
    "name": "ipython",
    "version": 3
   },
   "file_extension": ".py",
   "mimetype": "text/x-python",
   "name": "python",
   "nbconvert_exporter": "python",
   "pygments_lexer": "ipython3",
   "version": "3.8.3"
  }
 },
 "nbformat": 4,
 "nbformat_minor": 4
}
